{
 "cells": [
  {
   "cell_type": "markdown",
   "id": "377b89b8",
   "metadata": {},
   "source": [
    "# Import necessary libraries"
   ]
  },
  {
   "cell_type": "code",
   "execution_count": 5,
   "id": "7809edd1",
   "metadata": {},
   "outputs": [],
   "source": [
    "%matplotlib inline\n",
    "\n",
    "import numpy as np\n",
    "import pandas as pd\n",
    "import matplotlib.pyplot as plt\n",
    "import seaborn as sns\n",
    "import zipfile as zf\n",
    "import os\n",
    "import random\n",
    "import cv2\n",
    "import imutils\n",
    "\n",
    "from sklearn.metrics import classification_report,confusion_matrix\n",
    "from sklearn import metrics\n",
    "from sklearn.preprocessing import LabelEncoder,LabelBinarizer\n",
    "from sklearn.model_selection import train_test_split\n",
    "from sklearn.ensemble import RandomForestClassifier,GradientBoostingClassifier,ExtraTreesClassifier\n",
    "\n",
    "from skimage import feature\n",
    "\n",
    "from keras.utils import to_categorical\n",
    "from imutils import build_montages,paths\n",
    "\n",
    "\n",
    "sns.set()"
   ]
  },
  {
   "cell_type": "code",
   "execution_count": 6,
   "id": "3511d980",
   "metadata": {},
   "outputs": [
    {
     "data": {
      "text/plain": [
       "'C:\\\\Users\\\\Reema Sajad Hyder\\\\Desktop'"
      ]
     },
     "execution_count": 6,
     "metadata": {},
     "output_type": "execute_result"
    }
   ],
   "source": [
    "os.getcwd()"
   ]
  },
  {
   "cell_type": "markdown",
   "id": "d56eef20",
   "metadata": {},
   "source": [
    "# Loading train data and test data"
   ]
  },
  {
   "cell_type": "code",
   "execution_count": 9,
   "id": "a3f04df5",
   "metadata": {},
   "outputs": [],
   "source": [
    "spiral_train_healthy = os.listdir('Spiral/spiral/training/healthy/')\n",
    "spiral_train_park = os.listdir('Spiral/spiral/training/parkinson/')\n",
    "\n",
    "fp_spiral_train_healthy = 'Spiral/spiral/training/healthy/'\n",
    "fp_spiral_train_park = 'Spiral/spiral/training/parkinson/'\n",
    "\n",
    "spiral_test_healthy = os.listdir('Spiral/spiral/testing/healthy/')\n",
    "spiral_test_park = os.listdir('Spiral/spiral/testing/parkinson/')\n",
    "\n",
    "fp_spiral_test_healthy = 'Spiral/spiral/testing/healthy/'\n",
    "fp_spiral_test_park = 'Spiral/spiral/testing/parkinson/'"
   ]
  },
  {
   "cell_type": "markdown",
   "id": "fcacffe3",
   "metadata": {},
   "source": [
    "# Quantifying images"
   ]
  },
  {
   "cell_type": "code",
   "execution_count": 10,
   "id": "68332c58",
   "metadata": {},
   "outputs": [],
   "source": [
    "def quantify_image(image):\n",
    "  features = feature.hog(image,orientations=9,\n",
    "                pixels_per_cell=(10,10),cells_per_block=(2,2),transform_sqrt=True,block_norm=\"L1\")\n",
    "\n",
    "  return features"
   ]
  },
  {
   "cell_type": "markdown",
   "id": "6e80734c",
   "metadata": {},
   "source": [
    "# Preprocessing"
   ]
  },
  {
   "cell_type": "code",
   "execution_count": 11,
   "id": "fe24bddd",
   "metadata": {},
   "outputs": [],
   "source": [
    "trainX = []\n",
    "testX = []\n",
    "outputs = []\n",
    "trainY = []\n",
    "testY = []\n",
    "\n",
    "for i in spiral_train_healthy:\n",
    "  image = cv2.imread(fp_spiral_train_healthy+i)\n",
    "  image = cv2.cvtColor(image , cv2.COLOR_BGR2GRAY)\n",
    "  image = cv2.resize(image , (200,200))\n",
    "  image =cv2.threshold(image, 0, 255,cv2.THRESH_BINARY_INV | cv2.THRESH_OTSU)[1]\n",
    "  features = quantify_image(image)\n",
    "  trainX.append(features)\n",
    "  trainY.append('healthy')\n",
    "\n",
    "for i in spiral_train_park:\n",
    "  image = cv2.imread(fp_spiral_train_park+i)\n",
    "  image = cv2.cvtColor(image , cv2.COLOR_BGR2GRAY)\n",
    "  image = cv2.resize(image , (200,200))\n",
    "  image = cv2.threshold(image ,0,255,cv2.THRESH_BINARY_INV | cv2.THRESH_OTSU)[1]\n",
    "  features = quantify_image(image)\n",
    "  trainX.append(features)\n",
    "  trainY.append('parkinson')\n",
    "\n",
    "for i in spiral_test_healthy:\n",
    "  image = cv2.imread(fp_spiral_test_healthy+i)\n",
    "  outputs.append(image)\n",
    "  image = cv2.cvtColor(image , cv2.COLOR_BGR2GRAY)\n",
    "  image = cv2.resize(image , (200,200))\n",
    "  image = cv2.threshold(image ,0,255,cv2.THRESH_BINARY_INV | cv2.THRESH_OTSU)[1]\n",
    "  features = quantify_image(image)\n",
    "  testX.append(features)\n",
    "  testY.append('healthy')\n",
    "\n",
    "for i in spiral_test_park:\n",
    "  image = cv2.imread(fp_spiral_test_park+i)\n",
    "  outputs.append(image)\n",
    "  image = cv2.cvtColor(image , cv2.COLOR_BGR2GRAY)\n",
    "  image = cv2.resize(image , (200,200))\n",
    "  image = cv2.threshold(image ,0,255,cv2.THRESH_BINARY_INV | cv2.THRESH_OTSU)[1]\n",
    "  features = quantify_image(image)\n",
    "  testX.append(features)\n",
    "  testY.append('parkinson')"
   ]
  },
  {
   "cell_type": "code",
   "execution_count": 12,
   "id": "99c1016c",
   "metadata": {},
   "outputs": [],
   "source": [
    "trainX = np.array(trainX)\n",
    "testX = np.array(testX)\n",
    "trainY = np.array(trainY)\n",
    "testY = np.array(testY)"
   ]
  },
  {
   "cell_type": "code",
   "execution_count": 13,
   "id": "0cb83b0a",
   "metadata": {},
   "outputs": [
    {
     "data": {
      "text/plain": [
       "array([[0., 0., 0., ..., 0., 0., 0.],\n",
       "       [0., 0., 0., ..., 0., 0., 0.],\n",
       "       [0., 0., 0., ..., 0., 0., 0.],\n",
       "       ...,\n",
       "       [0., 0., 0., ..., 0., 0., 0.],\n",
       "       [0., 0., 0., ..., 0., 0., 0.],\n",
       "       [0., 0., 0., ..., 0., 0., 0.]])"
      ]
     },
     "execution_count": 13,
     "metadata": {},
     "output_type": "execute_result"
    }
   ],
   "source": [
    "trainX"
   ]
  },
  {
   "cell_type": "code",
   "execution_count": 14,
   "id": "dd279aff",
   "metadata": {},
   "outputs": [
    {
     "data": {
      "text/plain": [
       "array([[0., 0., 0., ..., 0., 0., 0.],\n",
       "       [0., 0., 0., ..., 0., 0., 0.],\n",
       "       [0., 0., 0., ..., 0., 0., 0.],\n",
       "       ...,\n",
       "       [0., 0., 0., ..., 0., 0., 0.],\n",
       "       [0., 0., 0., ..., 0., 0., 0.],\n",
       "       [0., 0., 0., ..., 0., 0., 0.]])"
      ]
     },
     "execution_count": 14,
     "metadata": {},
     "output_type": "execute_result"
    }
   ],
   "source": [
    "testX"
   ]
  },
  {
   "cell_type": "code",
   "execution_count": 15,
   "id": "e5c148dc",
   "metadata": {},
   "outputs": [
    {
     "data": {
      "text/plain": [
       "array(['healthy', 'healthy', 'healthy', 'healthy', 'healthy', 'healthy',\n",
       "       'healthy', 'healthy', 'healthy', 'healthy', 'healthy', 'healthy',\n",
       "       'healthy', 'healthy', 'healthy', 'healthy', 'healthy', 'healthy',\n",
       "       'healthy', 'healthy', 'healthy', 'healthy', 'healthy', 'healthy',\n",
       "       'healthy', 'healthy', 'healthy', 'healthy', 'healthy', 'healthy',\n",
       "       'healthy', 'healthy', 'healthy', 'healthy', 'healthy', 'healthy',\n",
       "       'parkinson', 'parkinson', 'parkinson', 'parkinson', 'parkinson',\n",
       "       'parkinson', 'parkinson', 'parkinson', 'parkinson', 'parkinson',\n",
       "       'parkinson', 'parkinson', 'parkinson', 'parkinson', 'parkinson',\n",
       "       'parkinson', 'parkinson', 'parkinson', 'parkinson', 'parkinson',\n",
       "       'parkinson', 'parkinson', 'parkinson', 'parkinson', 'parkinson',\n",
       "       'parkinson', 'parkinson', 'parkinson', 'parkinson', 'parkinson',\n",
       "       'parkinson', 'parkinson', 'parkinson', 'parkinson', 'parkinson',\n",
       "       'parkinson'], dtype='<U9')"
      ]
     },
     "execution_count": 15,
     "metadata": {},
     "output_type": "execute_result"
    }
   ],
   "source": [
    "trainY"
   ]
  },
  {
   "cell_type": "code",
   "execution_count": 16,
   "id": "de32b2f2",
   "metadata": {},
   "outputs": [
    {
     "data": {
      "text/plain": [
       "array(['healthy', 'healthy', 'healthy', 'healthy', 'healthy', 'healthy',\n",
       "       'healthy', 'healthy', 'healthy', 'healthy', 'healthy', 'healthy',\n",
       "       'healthy', 'healthy', 'healthy', 'parkinson', 'parkinson',\n",
       "       'parkinson', 'parkinson', 'parkinson', 'parkinson', 'parkinson',\n",
       "       'parkinson', 'parkinson', 'parkinson', 'parkinson', 'parkinson',\n",
       "       'parkinson', 'parkinson', 'parkinson'], dtype='<U9')"
      ]
     },
     "execution_count": 16,
     "metadata": {},
     "output_type": "execute_result"
    }
   ],
   "source": [
    "testY"
   ]
  },
  {
   "cell_type": "markdown",
   "id": "8c9bd6be",
   "metadata": {},
   "source": [
    "# Label encoding"
   ]
  },
  {
   "cell_type": "code",
   "execution_count": 17,
   "id": "6caf13e8",
   "metadata": {},
   "outputs": [],
   "source": [
    "le = LabelEncoder()"
   ]
  },
  {
   "cell_type": "code",
   "execution_count": 18,
   "id": "8e4b37b3",
   "metadata": {},
   "outputs": [],
   "source": [
    "trainY = le.fit_transform(trainY)\n",
    "testY = le.transform(testY)"
   ]
  },
  {
   "cell_type": "code",
   "execution_count": 19,
   "id": "4dcd9c44",
   "metadata": {},
   "outputs": [
    {
     "data": {
      "text/plain": [
       "array([0, 0, 0, 0, 0, 0, 0, 0, 0, 0, 0, 0, 0, 0, 0, 0, 0, 0, 0, 0, 0, 0,\n",
       "       0, 0, 0, 0, 0, 0, 0, 0, 0, 0, 0, 0, 0, 0, 1, 1, 1, 1, 1, 1, 1, 1,\n",
       "       1, 1, 1, 1, 1, 1, 1, 1, 1, 1, 1, 1, 1, 1, 1, 1, 1, 1, 1, 1, 1, 1,\n",
       "       1, 1, 1, 1, 1, 1], dtype=int64)"
      ]
     },
     "execution_count": 19,
     "metadata": {},
     "output_type": "execute_result"
    }
   ],
   "source": [
    "trainY"
   ]
  },
  {
   "cell_type": "code",
   "execution_count": 20,
   "id": "4dd77c72",
   "metadata": {},
   "outputs": [
    {
     "data": {
      "text/plain": [
       "array([0, 0, 0, 0, 0, 0, 0, 0, 0, 0, 0, 0, 0, 0, 0, 1, 1, 1, 1, 1, 1, 1,\n",
       "       1, 1, 1, 1, 1, 1, 1, 1])"
      ]
     },
     "execution_count": 20,
     "metadata": {},
     "output_type": "execute_result"
    }
   ],
   "source": [
    "testY"
   ]
  },
  {
   "cell_type": "code",
   "execution_count": null,
   "id": "ec61df1a",
   "metadata": {},
   "outputs": [],
   "source": []
  }
 ],
 "metadata": {
  "kernelspec": {
   "display_name": "Python 3 (ipykernel)",
   "language": "python",
   "name": "python3"
  },
  "language_info": {
   "codemirror_mode": {
    "name": "ipython",
    "version": 3
   },
   "file_extension": ".py",
   "mimetype": "text/x-python",
   "name": "python",
   "nbconvert_exporter": "python",
   "pygments_lexer": "ipython3",
   "version": "3.9.12"
  }
 },
 "nbformat": 4,
 "nbformat_minor": 5
}
